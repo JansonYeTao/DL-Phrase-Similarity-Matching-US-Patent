{
 "cells": [
  {
   "cell_type": "code",
   "execution_count": 1,
   "metadata": {},
   "outputs": [
    {
     "name": "stderr",
     "output_type": "stream",
     "text": [
      "/home/ubuntu/miniconda3/envs/dl-core-py39/lib/python3.9/site-packages/tqdm/auto.py:21: TqdmWarning: IProgress not found. Please update jupyter and ipywidgets. See https://ipywidgets.readthedocs.io/en/stable/user_install.html\n",
      "  from .autonotebook import tqdm as notebook_tqdm\n"
     ]
    }
   ],
   "source": [
    "import os\n",
    "import zipfile\n",
    "import kaggle\n",
    "from pathlib import Path\n",
    "\n",
    "import pandas as pd\n",
    "import torch\n",
    "from datasets import Dataset, DatasetDict\n",
    "from transformers import AutoModelForSequenceClassification, AutoTokenizer\n",
    "\n",
    "from functools import partial\n",
    "import numpy as np"
   ]
  },
  {
   "cell_type": "code",
   "execution_count": 2,
   "metadata": {},
   "outputs": [],
   "source": [
    "def download_dataset():\n",
    "    cred_path = Path(\"/home/ubuntu/.config/kaggle/kaggle.json\")\n",
    "    cred_path.chmod(0o600)\n",
    "    path = Path('us-patent-phrase-to-phrase-matching')\n",
    "\n",
    "    kaggle.api.competition_download_cli(str(path))\n",
    "    zipfile.ZipFile(f\"{path}.zip\").extractall(path)"
   ]
  },
  {
   "cell_type": "markdown",
   "metadata": {},
   "source": []
  },
  {
   "cell_type": "code",
   "execution_count": null,
   "metadata": {},
   "outputs": [],
   "source": []
  },
  {
   "cell_type": "code",
   "execution_count": 3,
   "metadata": {},
   "outputs": [
    {
     "name": "stdout",
     "output_type": "stream",
     "text": [
      "us-patent-phrase-to-phrase-matching.zip: Skipping, found more recently modified local copy (use --force to force download)\n"
     ]
    }
   ],
   "source": [
    "download_dataset()"
   ]
  },
  {
   "cell_type": "code",
   "execution_count": 4,
   "metadata": {},
   "outputs": [
    {
     "data": {
      "text/html": [
       "<div>\n",
       "<style scoped>\n",
       "    .dataframe tbody tr th:only-of-type {\n",
       "        vertical-align: middle;\n",
       "    }\n",
       "\n",
       "    .dataframe tbody tr th {\n",
       "        vertical-align: top;\n",
       "    }\n",
       "\n",
       "    .dataframe thead th {\n",
       "        text-align: right;\n",
       "    }\n",
       "</style>\n",
       "<table border=\"1\" class=\"dataframe\">\n",
       "  <thead>\n",
       "    <tr style=\"text-align: right;\">\n",
       "      <th></th>\n",
       "      <th>id</th>\n",
       "      <th>anchor</th>\n",
       "      <th>target</th>\n",
       "      <th>context</th>\n",
       "    </tr>\n",
       "  </thead>\n",
       "  <tbody>\n",
       "    <tr>\n",
       "      <th>count</th>\n",
       "      <td>36473</td>\n",
       "      <td>36473</td>\n",
       "      <td>36473</td>\n",
       "      <td>36473</td>\n",
       "    </tr>\n",
       "    <tr>\n",
       "      <th>unique</th>\n",
       "      <td>36473</td>\n",
       "      <td>733</td>\n",
       "      <td>29340</td>\n",
       "      <td>106</td>\n",
       "    </tr>\n",
       "    <tr>\n",
       "      <th>top</th>\n",
       "      <td>8d135da0b55b8c88</td>\n",
       "      <td>component composite coating</td>\n",
       "      <td>composition</td>\n",
       "      <td>H01</td>\n",
       "    </tr>\n",
       "    <tr>\n",
       "      <th>freq</th>\n",
       "      <td>1</td>\n",
       "      <td>152</td>\n",
       "      <td>24</td>\n",
       "      <td>2186</td>\n",
       "    </tr>\n",
       "  </tbody>\n",
       "</table>\n",
       "</div>"
      ],
      "text/plain": [
       "                      id                       anchor       target context\n",
       "count              36473                        36473        36473   36473\n",
       "unique             36473                          733        29340     106\n",
       "top     8d135da0b55b8c88  component composite coating  composition     H01\n",
       "freq                   1                          152           24    2186"
      ]
     },
     "execution_count": 4,
     "metadata": {},
     "output_type": "execute_result"
    }
   ],
   "source": [
    "df = pd.read_csv(\"./us-patent-phrase-to-phrase-matching/train.csv\")\n",
    "df.describe(include=\"object\")"
   ]
  },
  {
   "cell_type": "code",
   "execution_count": 5,
   "metadata": {},
   "outputs": [
    {
     "data": {
      "text/html": [
       "<div>\n",
       "<style scoped>\n",
       "    .dataframe tbody tr th:only-of-type {\n",
       "        vertical-align: middle;\n",
       "    }\n",
       "\n",
       "    .dataframe tbody tr th {\n",
       "        vertical-align: top;\n",
       "    }\n",
       "\n",
       "    .dataframe thead th {\n",
       "        text-align: right;\n",
       "    }\n",
       "</style>\n",
       "<table border=\"1\" class=\"dataframe\">\n",
       "  <thead>\n",
       "    <tr style=\"text-align: right;\">\n",
       "      <th></th>\n",
       "      <th>id</th>\n",
       "      <th>anchor</th>\n",
       "      <th>target</th>\n",
       "      <th>context</th>\n",
       "      <th>score</th>\n",
       "    </tr>\n",
       "  </thead>\n",
       "  <tbody>\n",
       "    <tr>\n",
       "      <th>0</th>\n",
       "      <td>37d61fd2272659b1</td>\n",
       "      <td>abatement</td>\n",
       "      <td>abatement of pollution</td>\n",
       "      <td>A47</td>\n",
       "      <td>0.50</td>\n",
       "    </tr>\n",
       "    <tr>\n",
       "      <th>1</th>\n",
       "      <td>7b9652b17b68b7a4</td>\n",
       "      <td>abatement</td>\n",
       "      <td>act of abating</td>\n",
       "      <td>A47</td>\n",
       "      <td>0.75</td>\n",
       "    </tr>\n",
       "    <tr>\n",
       "      <th>2</th>\n",
       "      <td>36d72442aefd8232</td>\n",
       "      <td>abatement</td>\n",
       "      <td>active catalyst</td>\n",
       "      <td>A47</td>\n",
       "      <td>0.25</td>\n",
       "    </tr>\n",
       "    <tr>\n",
       "      <th>3</th>\n",
       "      <td>5296b0c19e1ce60e</td>\n",
       "      <td>abatement</td>\n",
       "      <td>eliminating process</td>\n",
       "      <td>A47</td>\n",
       "      <td>0.50</td>\n",
       "    </tr>\n",
       "    <tr>\n",
       "      <th>4</th>\n",
       "      <td>54c1e3b9184cb5b6</td>\n",
       "      <td>abatement</td>\n",
       "      <td>forest region</td>\n",
       "      <td>A47</td>\n",
       "      <td>0.00</td>\n",
       "    </tr>\n",
       "  </tbody>\n",
       "</table>\n",
       "</div>"
      ],
      "text/plain": [
       "                 id     anchor                  target context  score\n",
       "0  37d61fd2272659b1  abatement  abatement of pollution     A47   0.50\n",
       "1  7b9652b17b68b7a4  abatement          act of abating     A47   0.75\n",
       "2  36d72442aefd8232  abatement         active catalyst     A47   0.25\n",
       "3  5296b0c19e1ce60e  abatement     eliminating process     A47   0.50\n",
       "4  54c1e3b9184cb5b6  abatement           forest region     A47   0.00"
      ]
     },
     "execution_count": 5,
     "metadata": {},
     "output_type": "execute_result"
    }
   ],
   "source": [
    "df.head()"
   ]
  },
  {
   "cell_type": "code",
   "execution_count": 6,
   "metadata": {},
   "outputs": [
    {
     "data": {
      "text/html": [
       "<div>\n",
       "<style scoped>\n",
       "    .dataframe tbody tr th:only-of-type {\n",
       "        vertical-align: middle;\n",
       "    }\n",
       "\n",
       "    .dataframe tbody tr th {\n",
       "        vertical-align: top;\n",
       "    }\n",
       "\n",
       "    .dataframe thead th {\n",
       "        text-align: right;\n",
       "    }\n",
       "</style>\n",
       "<table border=\"1\" class=\"dataframe\">\n",
       "  <thead>\n",
       "    <tr style=\"text-align: right;\">\n",
       "      <th></th>\n",
       "      <th>id</th>\n",
       "      <th>anchor</th>\n",
       "      <th>target</th>\n",
       "      <th>context</th>\n",
       "      <th>score</th>\n",
       "    </tr>\n",
       "  </thead>\n",
       "  <tbody>\n",
       "    <tr>\n",
       "      <th>36468</th>\n",
       "      <td>8e1386cbefd7f245</td>\n",
       "      <td>wood article</td>\n",
       "      <td>wooden article</td>\n",
       "      <td>B44</td>\n",
       "      <td>1.00</td>\n",
       "    </tr>\n",
       "    <tr>\n",
       "      <th>36469</th>\n",
       "      <td>42d9e032d1cd3242</td>\n",
       "      <td>wood article</td>\n",
       "      <td>wooden box</td>\n",
       "      <td>B44</td>\n",
       "      <td>0.50</td>\n",
       "    </tr>\n",
       "    <tr>\n",
       "      <th>36470</th>\n",
       "      <td>208654ccb9e14fa3</td>\n",
       "      <td>wood article</td>\n",
       "      <td>wooden handle</td>\n",
       "      <td>B44</td>\n",
       "      <td>0.50</td>\n",
       "    </tr>\n",
       "    <tr>\n",
       "      <th>36471</th>\n",
       "      <td>756ec035e694722b</td>\n",
       "      <td>wood article</td>\n",
       "      <td>wooden material</td>\n",
       "      <td>B44</td>\n",
       "      <td>0.75</td>\n",
       "    </tr>\n",
       "    <tr>\n",
       "      <th>36472</th>\n",
       "      <td>8d135da0b55b8c88</td>\n",
       "      <td>wood article</td>\n",
       "      <td>wooden substrate</td>\n",
       "      <td>B44</td>\n",
       "      <td>0.50</td>\n",
       "    </tr>\n",
       "  </tbody>\n",
       "</table>\n",
       "</div>"
      ],
      "text/plain": [
       "                     id        anchor            target context  score\n",
       "36468  8e1386cbefd7f245  wood article    wooden article     B44   1.00\n",
       "36469  42d9e032d1cd3242  wood article        wooden box     B44   0.50\n",
       "36470  208654ccb9e14fa3  wood article     wooden handle     B44   0.50\n",
       "36471  756ec035e694722b  wood article   wooden material     B44   0.75\n",
       "36472  8d135da0b55b8c88  wood article  wooden substrate     B44   0.50"
      ]
     },
     "execution_count": 6,
     "metadata": {},
     "output_type": "execute_result"
    }
   ],
   "source": [
    "df.tail()"
   ]
  },
  {
   "cell_type": "code",
   "execution_count": 7,
   "metadata": {},
   "outputs": [
    {
     "data": {
      "text/plain": [
       "(36473, 5)"
      ]
     },
     "execution_count": 7,
     "metadata": {},
     "output_type": "execute_result"
    }
   ],
   "source": [
    "df.shape"
   ]
  },
  {
   "cell_type": "code",
   "execution_count": 8,
   "metadata": {},
   "outputs": [],
   "source": [
    "def transform(data):\n",
    "    data[\"input\"] = \"TEXT1: \" + data[\"context\"] + \"; TEXT2: \" + data[\"target\"] + \"; ANC1: \" + data[\"anchor\"]\n",
    "    return data"
   ]
  },
  {
   "cell_type": "code",
   "execution_count": 9,
   "metadata": {},
   "outputs": [
    {
     "data": {
      "text/plain": [
       "Dataset({\n",
       "    features: ['id', 'anchor', 'target', 'context', 'score', 'input'],\n",
       "    num_rows: 36473\n",
       "})"
      ]
     },
     "execution_count": 9,
     "metadata": {},
     "output_type": "execute_result"
    }
   ],
   "source": [
    "df = transform(df)\n",
    "ds = Dataset.from_pandas(df)\n",
    "ds"
   ]
  },
  {
   "cell_type": "code",
   "execution_count": 10,
   "metadata": {},
   "outputs": [
    {
     "name": "stderr",
     "output_type": "stream",
     "text": [
      "/home/ubuntu/miniconda3/envs/dl-core-py39/lib/python3.9/site-packages/transformers/convert_slow_tokenizer.py:561: UserWarning: The sentencepiece tokenizer that you are converting to a fast tokenizer uses the byte fallback option which is not implemented in the fast tokenizers. In practice this means that the fast version of the tokenizer can produce unknown tokens whereas the sentencepiece version would have converted these unknown tokens into a sequence of byte tokens matching the original piece of text.\n",
      "  warnings.warn(\n"
     ]
    }
   ],
   "source": [
    "model_name = 'microsoft/deberta-v3-small'\n",
    "tokz = AutoTokenizer.from_pretrained(model_name)"
   ]
  },
  {
   "cell_type": "code",
   "execution_count": 11,
   "metadata": {},
   "outputs": [],
   "source": [
    "def tok_func(tokz, x):\n",
    "    return tokz(x[\"input\"])"
   ]
  },
  {
   "cell_type": "code",
   "execution_count": 12,
   "metadata": {},
   "outputs": [],
   "source": [
    "tok_func_partial = partial(tok_func, tokz)"
   ]
  },
  {
   "cell_type": "code",
   "execution_count": 13,
   "metadata": {},
   "outputs": [
    {
     "name": "stderr",
     "output_type": "stream",
     "text": [
      "Map:   0%|          | 0/36473 [00:00<?, ? examples/s]"
     ]
    },
    {
     "name": "stderr",
     "output_type": "stream",
     "text": [
      "Map: 100%|██████████| 36473/36473 [00:01<00:00, 32597.46 examples/s]\n"
     ]
    }
   ],
   "source": [
    "tok_ds = ds.map(tok_func_partial, batched=True)"
   ]
  },
  {
   "cell_type": "code",
   "execution_count": 14,
   "metadata": {},
   "outputs": [],
   "source": [
    "tok_ds = tok_ds.rename_columns({\"score\": \"labels\"})"
   ]
  },
  {
   "cell_type": "code",
   "execution_count": 15,
   "metadata": {},
   "outputs": [],
   "source": [
    "eval_df = pd.read_csv(\"us-patent-phrase-to-phrase-matching/test.csv\")\n"
   ]
  },
  {
   "cell_type": "code",
   "execution_count": null,
   "metadata": {},
   "outputs": [
    {
     "data": {
      "text/plain": [
       "DatasetDict({\n",
       "    train: Dataset({\n",
       "        features: ['id', 'anchor', 'target', 'context', 'labels', 'input', 'input_ids', 'token_type_ids', 'attention_mask'],\n",
       "        num_rows: 27354\n",
       "    })\n",
       "    test: Dataset({\n",
       "        features: ['id', 'anchor', 'target', 'context', 'labels', 'input', 'input_ids', 'token_type_ids', 'attention_mask'],\n",
       "        num_rows: 9119\n",
       "    })\n",
       "})"
      ]
     },
     "execution_count": 16,
     "metadata": {},
     "output_type": "execute_result"
    }
   ],
   "source": [
    "dds = tok_ds.train_test_split(0.25, seed=42)\n",
    "dds"
   ]
  },
  {
   "cell_type": "code",
   "execution_count": null,
   "metadata": {},
   "outputs": [
    {
     "name": "stderr",
     "output_type": "stream",
     "text": [
      "Map: 100%|██████████| 36/36 [00:00<00:00, 5447.34 examples/s]\n"
     ]
    }
   ],
   "source": [
    "eval_df = transform(eval_df)\n",
    "eval_ds = Dataset.from_pandas(eval_df).map(tok_func_partial, batched=True)"
   ]
  },
  {
   "cell_type": "code",
   "execution_count": null,
   "metadata": {},
   "outputs": [],
   "source": []
  },
  {
   "cell_type": "code",
   "execution_count": null,
   "metadata": {},
   "outputs": [],
   "source": []
  },
  {
   "cell_type": "code",
   "execution_count": 18,
   "metadata": {},
   "outputs": [],
   "source": [
    "from transformers import TrainingArguments, Trainer"
   ]
  },
  {
   "cell_type": "code",
   "execution_count": 19,
   "metadata": {},
   "outputs": [
    {
     "name": "stderr",
     "output_type": "stream",
     "text": [
      "huggingface/tokenizers: The current process just got forked, after parallelism has already been used. Disabling parallelism to avoid deadlocks...\n",
      "To disable this warning, you can either:\n",
      "\t- Avoid using `tokenizers` before the fork if possible\n",
      "\t- Explicitly set the environment variable TOKENIZERS_PARALLELISM=(true | false)\n",
      "huggingface/tokenizers: The current process just got forked, after parallelism has already been used. Disabling parallelism to avoid deadlocks...\n",
      "To disable this warning, you can either:\n",
      "\t- Avoid using `tokenizers` before the fork if possible\n",
      "\t- Explicitly set the environment variable TOKENIZERS_PARALLELISM=(true | false)\n",
      "huggingface/tokenizers: The current process just got forked, after parallelism has already been used. Disabling parallelism to avoid deadlocks...\n",
      "To disable this warning, you can either:\n",
      "\t- Avoid using `tokenizers` before the fork if possible\n",
      "\t- Explicitly set the environment variable TOKENIZERS_PARALLELISM=(true | false)\n"
     ]
    }
   ],
   "source": [
    "bs = 128\n",
    "epochs = 4\n",
    "lr = 8e-5\n",
    "\n",
    "args = TrainingArguments(\n",
    "    \"outputs\",\n",
    "    learning_rate=lr,\n",
    "    warmup_ratio=0.1,\n",
    "    num_epochs=10,\n",
    "    lr_scheduler_type=\"cosine\",\n",
    "    fp16=True,\n",
    "    eval_strategy=\"epoch\",\n",
    "    per_device_train_batch_size=bs,\n",
    "    per_device_eval_batch_size=bs*2,\n",
    "    num_train_epochs=epochs,\n",
    "    weight_decay=0.01,\n",
    "    report_to=\"wandb\"\n",
    ")"
   ]
  },
  {
   "cell_type": "markdown",
   "metadata": {},
   "source": []
  },
  {
   "cell_type": "code",
   "execution_count": null,
   "metadata": {},
   "outputs": [
    {
     "name": "stderr",
     "output_type": "stream",
     "text": [
      "huggingface/tokenizers: The current process just got forked, after parallelism has already been used. Disabling parallelism to avoid deadlocks...\n",
      "To disable this warning, you can either:\n",
      "\t- Avoid using `tokenizers` before the fork if possible\n",
      "\t- Explicitly set the environment variable TOKENIZERS_PARALLELISM=(true | false)\n",
      "Some weights of DebertaV2ForSequenceClassification were not initialized from the model checkpoint at microsoft/deberta-v3-small and are newly initialized: ['classifier.bias', 'classifier.weight', 'pooler.dense.bias', 'pooler.dense.weight']\n",
      "You should probably TRAIN this model on a down-stream task to be able to use it for predictions and inference.\n",
      "/tmp/ipykernel_3085436/3465618349.py:7: FutureWarning: `tokenizer` is deprecated and will be removed in version 5.0.0 for `Trainer.__init__`. Use `processing_class` instead.\n",
      "  trainer = Trainer(\n"
     ]
    }
   ],
   "source": [
    "def corr_d(pred):\n",
    "    def corr(x, y):\n",
    "        return np.corrcoef(x, y)[0][1]\n",
    "    return {\"pearson\": corr(*pred)}\n",
    "\n",
    "model = AutoModelForSequenceClassification.from_pretrained(model_name, num_labels=1 ) # num_labels=1 as regression\n",
    "trainer = Trainer(\n",
    "    model, args, train_dataset=dds[\"train\"], eval_dataset=dds[\"test\"], tokenizer=tokz, compute_metrics=corr_d\n",
    ")"
   ]
  },
  {
   "cell_type": "code",
   "execution_count": 24,
   "metadata": {},
   "outputs": [
    {
     "name": "stderr",
     "output_type": "stream",
     "text": [
      "/home/ubuntu/miniconda3/envs/dl-core-py39/lib/python3.9/site-packages/torch/nn/parallel/_functions.py:71: UserWarning: Was asked to gather along dimension 0, but all input tensors were scalars; will instead unsqueeze and return a vector.\n",
      "  warnings.warn(\n"
     ]
    },
    {
     "data": {
      "text/html": [
       "\n",
       "    <div>\n",
       "      \n",
       "      <progress value='216' max='216' style='width:300px; height:20px; vertical-align: middle;'></progress>\n",
       "      [216/216 02:20, Epoch 4/4]\n",
       "    </div>\n",
       "    <table border=\"1\" class=\"dataframe\">\n",
       "  <thead>\n",
       " <tr style=\"text-align: left;\">\n",
       "      <th>Epoch</th>\n",
       "      <th>Training Loss</th>\n",
       "      <th>Validation Loss</th>\n",
       "      <th>Pearson</th>\n",
       "    </tr>\n",
       "  </thead>\n",
       "  <tbody>\n",
       "    <tr>\n",
       "      <td>1</td>\n",
       "      <td>No log</td>\n",
       "      <td>0.028079</td>\n",
       "      <td>0.765280</td>\n",
       "    </tr>\n",
       "    <tr>\n",
       "      <td>2</td>\n",
       "      <td>No log</td>\n",
       "      <td>0.024313</td>\n",
       "      <td>0.805469</td>\n",
       "    </tr>\n",
       "    <tr>\n",
       "      <td>3</td>\n",
       "      <td>No log</td>\n",
       "      <td>0.023440</td>\n",
       "      <td>0.815576</td>\n",
       "    </tr>\n",
       "    <tr>\n",
       "      <td>4</td>\n",
       "      <td>No log</td>\n",
       "      <td>0.024376</td>\n",
       "      <td>0.818836</td>\n",
       "    </tr>\n",
       "  </tbody>\n",
       "</table><p>"
      ],
      "text/plain": [
       "<IPython.core.display.HTML object>"
      ]
     },
     "metadata": {},
     "output_type": "display_data"
    },
    {
     "name": "stderr",
     "output_type": "stream",
     "text": [
      "/home/ubuntu/miniconda3/envs/dl-core-py39/lib/python3.9/site-packages/torch/nn/parallel/_functions.py:71: UserWarning: Was asked to gather along dimension 0, but all input tensors were scalars; will instead unsqueeze and return a vector.\n",
      "  warnings.warn(\n"
     ]
    },
    {
     "data": {
      "text/plain": [
       "TrainOutput(global_step=216, training_loss=0.031473632212038395, metrics={'train_runtime': 141.0337, 'train_samples_per_second': 775.815, 'train_steps_per_second': 1.532, 'total_flos': 785867506545960.0, 'train_loss': 0.031473632212038395, 'epoch': 4.0})"
      ]
     },
     "execution_count": 24,
     "metadata": {},
     "output_type": "execute_result"
    }
   ],
   "source": [
    "trainer.train()"
   ]
  },
  {
   "cell_type": "code",
   "execution_count": null,
   "metadata": {},
   "outputs": [],
   "source": []
  },
  {
   "cell_type": "code",
   "execution_count": null,
   "metadata": {},
   "outputs": [],
   "source": []
  },
  {
   "cell_type": "code",
   "execution_count": null,
   "metadata": {},
   "outputs": [],
   "source": []
  },
  {
   "cell_type": "markdown",
   "metadata": {},
   "source": [
    "eva_df = pd.rea"
   ]
  },
  {
   "cell_type": "code",
   "execution_count": 47,
   "metadata": {},
   "outputs": [
    {
     "data": {
      "text/html": [],
      "text/plain": [
       "<IPython.core.display.HTML object>"
      ]
     },
     "metadata": {},
     "output_type": "display_data"
    }
   ],
   "source": [
    "preds = trainer.predict(eval_ds).predictions\n",
    "preds = np.clip(preds, 0, 1)"
   ]
  },
  {
   "cell_type": "code",
   "execution_count": 48,
   "metadata": {},
   "outputs": [],
   "source": [
    "eval_df[\"preds\"] = preds"
   ]
  },
  {
   "cell_type": "code",
   "execution_count": 49,
   "metadata": {},
   "outputs": [
    {
     "data": {
      "text/html": [
       "<div>\n",
       "<style scoped>\n",
       "    .dataframe tbody tr th:only-of-type {\n",
       "        vertical-align: middle;\n",
       "    }\n",
       "\n",
       "    .dataframe tbody tr th {\n",
       "        vertical-align: top;\n",
       "    }\n",
       "\n",
       "    .dataframe thead th {\n",
       "        text-align: right;\n",
       "    }\n",
       "</style>\n",
       "<table border=\"1\" class=\"dataframe\">\n",
       "  <thead>\n",
       "    <tr style=\"text-align: right;\">\n",
       "      <th></th>\n",
       "      <th>id</th>\n",
       "      <th>anchor</th>\n",
       "      <th>target</th>\n",
       "      <th>context</th>\n",
       "      <th>input</th>\n",
       "      <th>preds</th>\n",
       "    </tr>\n",
       "  </thead>\n",
       "  <tbody>\n",
       "    <tr>\n",
       "      <th>0</th>\n",
       "      <td>4112d61851461f60</td>\n",
       "      <td>opc drum</td>\n",
       "      <td>inorganic photoconductor drum</td>\n",
       "      <td>G02</td>\n",
       "      <td>TEXT1: G02; TEXT2: inorganic photoconductor dr...</td>\n",
       "      <td>0.657263</td>\n",
       "    </tr>\n",
       "    <tr>\n",
       "      <th>1</th>\n",
       "      <td>09e418c93a776564</td>\n",
       "      <td>adjust gas flow</td>\n",
       "      <td>altering gas flow</td>\n",
       "      <td>F23</td>\n",
       "      <td>TEXT1: F23; TEXT2: altering gas flow; ANC1: ad...</td>\n",
       "      <td>0.768425</td>\n",
       "    </tr>\n",
       "    <tr>\n",
       "      <th>2</th>\n",
       "      <td>36baf228038e314b</td>\n",
       "      <td>lower trunnion</td>\n",
       "      <td>lower locating</td>\n",
       "      <td>B60</td>\n",
       "      <td>TEXT1: B60; TEXT2: lower locating; ANC1: lower...</td>\n",
       "      <td>0.490535</td>\n",
       "    </tr>\n",
       "    <tr>\n",
       "      <th>3</th>\n",
       "      <td>1f37ead645e7f0c8</td>\n",
       "      <td>cap component</td>\n",
       "      <td>upper portion</td>\n",
       "      <td>D06</td>\n",
       "      <td>TEXT1: D06; TEXT2: upper portion; ANC1: cap co...</td>\n",
       "      <td>0.375327</td>\n",
       "    </tr>\n",
       "    <tr>\n",
       "      <th>4</th>\n",
       "      <td>71a5b6ad068d531f</td>\n",
       "      <td>neural stimulation</td>\n",
       "      <td>artificial neural network</td>\n",
       "      <td>H04</td>\n",
       "      <td>TEXT1: H04; TEXT2: artificial neural network; ...</td>\n",
       "      <td>0.000000</td>\n",
       "    </tr>\n",
       "    <tr>\n",
       "      <th>5</th>\n",
       "      <td>474c874d0c07bd21</td>\n",
       "      <td>dry corn</td>\n",
       "      <td>dry corn starch</td>\n",
       "      <td>C12</td>\n",
       "      <td>TEXT1: C12; TEXT2: dry corn starch; ANC1: dry ...</td>\n",
       "      <td>0.562612</td>\n",
       "    </tr>\n",
       "    <tr>\n",
       "      <th>6</th>\n",
       "      <td>442c114ed5c4e3c9</td>\n",
       "      <td>tunneling capacitor</td>\n",
       "      <td>capacitor housing</td>\n",
       "      <td>G11</td>\n",
       "      <td>TEXT1: G11; TEXT2: capacitor housing; ANC1: tu...</td>\n",
       "      <td>0.482692</td>\n",
       "    </tr>\n",
       "    <tr>\n",
       "      <th>7</th>\n",
       "      <td>b8ae62ea5e1d8bdb</td>\n",
       "      <td>angular contact bearing</td>\n",
       "      <td>contact therapy radiation</td>\n",
       "      <td>B23</td>\n",
       "      <td>TEXT1: B23; TEXT2: contact therapy radiation; ...</td>\n",
       "      <td>0.011487</td>\n",
       "    </tr>\n",
       "    <tr>\n",
       "      <th>8</th>\n",
       "      <td>faaddaf8fcba8a3f</td>\n",
       "      <td>produce liquid hydrocarbons</td>\n",
       "      <td>produce a treated stream</td>\n",
       "      <td>C10</td>\n",
       "      <td>TEXT1: C10; TEXT2: produce a treated stream; A...</td>\n",
       "      <td>0.215943</td>\n",
       "    </tr>\n",
       "    <tr>\n",
       "      <th>9</th>\n",
       "      <td>ae0262c02566d2ce</td>\n",
       "      <td>diesel fuel tank</td>\n",
       "      <td>diesel fuel tanks</td>\n",
       "      <td>F02</td>\n",
       "      <td>TEXT1: F02; TEXT2: diesel fuel tanks; ANC1: di...</td>\n",
       "      <td>1.000000</td>\n",
       "    </tr>\n",
       "    <tr>\n",
       "      <th>10</th>\n",
       "      <td>a8808e31641e856d</td>\n",
       "      <td>chemical activity</td>\n",
       "      <td>dielectric characteristics</td>\n",
       "      <td>B01</td>\n",
       "      <td>TEXT1: B01; TEXT2: dielectric characteristics;...</td>\n",
       "      <td>0.246587</td>\n",
       "    </tr>\n",
       "    <tr>\n",
       "      <th>11</th>\n",
       "      <td>16ae4b99d3601e60</td>\n",
       "      <td>transmit to platform</td>\n",
       "      <td>direct receiving</td>\n",
       "      <td>H04</td>\n",
       "      <td>TEXT1: H04; TEXT2: direct receiving; ANC1: tra...</td>\n",
       "      <td>0.273917</td>\n",
       "    </tr>\n",
       "    <tr>\n",
       "      <th>12</th>\n",
       "      <td>25c555ca3d5a2092</td>\n",
       "      <td>oil tankers</td>\n",
       "      <td>oil carriers</td>\n",
       "      <td>B63</td>\n",
       "      <td>TEXT1: B63; TEXT2: oil carriers; ANC1: oil tan...</td>\n",
       "      <td>0.789157</td>\n",
       "    </tr>\n",
       "    <tr>\n",
       "      <th>13</th>\n",
       "      <td>5203a36c501f1b7c</td>\n",
       "      <td>generate in layer</td>\n",
       "      <td>generate by layer</td>\n",
       "      <td>G02</td>\n",
       "      <td>TEXT1: G02; TEXT2: generate by layer; ANC1: ge...</td>\n",
       "      <td>0.867036</td>\n",
       "    </tr>\n",
       "    <tr>\n",
       "      <th>14</th>\n",
       "      <td>b9fdc772bb8fd61c</td>\n",
       "      <td>slip segment</td>\n",
       "      <td>slip portion</td>\n",
       "      <td>B22</td>\n",
       "      <td>TEXT1: B22; TEXT2: slip portion; ANC1: slip se...</td>\n",
       "      <td>0.760139</td>\n",
       "    </tr>\n",
       "    <tr>\n",
       "      <th>15</th>\n",
       "      <td>7aa5908a77a7ec24</td>\n",
       "      <td>el display</td>\n",
       "      <td>illumination</td>\n",
       "      <td>G02</td>\n",
       "      <td>TEXT1: G02; TEXT2: illumination; ANC1: el display</td>\n",
       "      <td>0.456371</td>\n",
       "    </tr>\n",
       "    <tr>\n",
       "      <th>16</th>\n",
       "      <td>d19ef3979396d47e</td>\n",
       "      <td>overflow device</td>\n",
       "      <td>oil filler</td>\n",
       "      <td>E04</td>\n",
       "      <td>TEXT1: E04; TEXT2: oil filler; ANC1: overflow ...</td>\n",
       "      <td>0.206004</td>\n",
       "    </tr>\n",
       "    <tr>\n",
       "      <th>17</th>\n",
       "      <td>fd83613b7843f5e1</td>\n",
       "      <td>beam traveling direction</td>\n",
       "      <td>concrete beam</td>\n",
       "      <td>H05</td>\n",
       "      <td>TEXT1: H05; TEXT2: concrete beam; ANC1: beam t...</td>\n",
       "      <td>0.000000</td>\n",
       "    </tr>\n",
       "    <tr>\n",
       "      <th>18</th>\n",
       "      <td>2a619016908bfa45</td>\n",
       "      <td>el display</td>\n",
       "      <td>electroluminescent</td>\n",
       "      <td>C23</td>\n",
       "      <td>TEXT1: C23; TEXT2: electroluminescent; ANC1: e...</td>\n",
       "      <td>0.591072</td>\n",
       "    </tr>\n",
       "    <tr>\n",
       "      <th>19</th>\n",
       "      <td>733979d75f59770d</td>\n",
       "      <td>equipment unit</td>\n",
       "      <td>power detection</td>\n",
       "      <td>H02</td>\n",
       "      <td>TEXT1: H02; TEXT2: power detection; ANC1: equi...</td>\n",
       "      <td>0.334054</td>\n",
       "    </tr>\n",
       "    <tr>\n",
       "      <th>20</th>\n",
       "      <td>6546846df17f9800</td>\n",
       "      <td>halocarbyl</td>\n",
       "      <td>halogen addition reaction</td>\n",
       "      <td>C07</td>\n",
       "      <td>TEXT1: C07; TEXT2: halogen addition reaction; ...</td>\n",
       "      <td>0.384680</td>\n",
       "    </tr>\n",
       "    <tr>\n",
       "      <th>21</th>\n",
       "      <td>3ff0e7a35015be69</td>\n",
       "      <td>perfluoroalkyl group</td>\n",
       "      <td>hydroxy</td>\n",
       "      <td>A63</td>\n",
       "      <td>TEXT1: A63; TEXT2: hydroxy; ANC1: perfluoroalk...</td>\n",
       "      <td>0.237037</td>\n",
       "    </tr>\n",
       "    <tr>\n",
       "      <th>22</th>\n",
       "      <td>12ca31f018a2e2b9</td>\n",
       "      <td>speed control means</td>\n",
       "      <td>control loop</td>\n",
       "      <td>G05</td>\n",
       "      <td>TEXT1: G05; TEXT2: control loop; ANC1: speed c...</td>\n",
       "      <td>0.138800</td>\n",
       "    </tr>\n",
       "    <tr>\n",
       "      <th>23</th>\n",
       "      <td>03ba802ed4029e4d</td>\n",
       "      <td>arm design</td>\n",
       "      <td>steel plate</td>\n",
       "      <td>F16</td>\n",
       "      <td>TEXT1: F16; TEXT2: steel plate; ANC1: arm design</td>\n",
       "      <td>0.201745</td>\n",
       "    </tr>\n",
       "    <tr>\n",
       "      <th>24</th>\n",
       "      <td>c404f8b378cbb008</td>\n",
       "      <td>hybrid bearing</td>\n",
       "      <td>bearing system</td>\n",
       "      <td>F04</td>\n",
       "      <td>TEXT1: F04; TEXT2: bearing system; ANC1: hybri...</td>\n",
       "      <td>0.606599</td>\n",
       "    </tr>\n",
       "    <tr>\n",
       "      <th>25</th>\n",
       "      <td>78243984c02a72e4</td>\n",
       "      <td>end pins</td>\n",
       "      <td>end days</td>\n",
       "      <td>A44</td>\n",
       "      <td>TEXT1: A44; TEXT2: end days; ANC1: end pins</td>\n",
       "      <td>0.000000</td>\n",
       "    </tr>\n",
       "    <tr>\n",
       "      <th>26</th>\n",
       "      <td>de51114bc0faec3e</td>\n",
       "      <td>organic starting</td>\n",
       "      <td>organic farming</td>\n",
       "      <td>B61</td>\n",
       "      <td>TEXT1: B61; TEXT2: organic farming; ANC1: orga...</td>\n",
       "      <td>0.000000</td>\n",
       "    </tr>\n",
       "    <tr>\n",
       "      <th>27</th>\n",
       "      <td>7e3aff857f056bf9</td>\n",
       "      <td>make of slabs</td>\n",
       "      <td>making cake</td>\n",
       "      <td>E04</td>\n",
       "      <td>TEXT1: E04; TEXT2: making cake; ANC1: make of ...</td>\n",
       "      <td>0.000000</td>\n",
       "    </tr>\n",
       "    <tr>\n",
       "      <th>28</th>\n",
       "      <td>26c3c6dc6174b589</td>\n",
       "      <td>seal teeth</td>\n",
       "      <td>teeth whitening</td>\n",
       "      <td>F01</td>\n",
       "      <td>TEXT1: F01; TEXT2: teeth whitening; ANC1: seal...</td>\n",
       "      <td>0.000000</td>\n",
       "    </tr>\n",
       "    <tr>\n",
       "      <th>29</th>\n",
       "      <td>b892011ab2e2cabc</td>\n",
       "      <td>carry by platform</td>\n",
       "      <td>carry on platform</td>\n",
       "      <td>B60</td>\n",
       "      <td>TEXT1: B60; TEXT2: carry on platform; ANC1: ca...</td>\n",
       "      <td>0.606126</td>\n",
       "    </tr>\n",
       "    <tr>\n",
       "      <th>30</th>\n",
       "      <td>8247ff562ca185cc</td>\n",
       "      <td>polls</td>\n",
       "      <td>pooling device</td>\n",
       "      <td>B21</td>\n",
       "      <td>TEXT1: B21; TEXT2: pooling device; ANC1: polls</td>\n",
       "      <td>0.344209</td>\n",
       "    </tr>\n",
       "    <tr>\n",
       "      <th>31</th>\n",
       "      <td>c057aecbba832387</td>\n",
       "      <td>upper clamp arm</td>\n",
       "      <td>end visual</td>\n",
       "      <td>A61</td>\n",
       "      <td>TEXT1: A61; TEXT2: end visual; ANC1: upper cla...</td>\n",
       "      <td>0.046513</td>\n",
       "    </tr>\n",
       "    <tr>\n",
       "      <th>32</th>\n",
       "      <td>9f2279ce667b21dc</td>\n",
       "      <td>clocked storage</td>\n",
       "      <td>clocked storage device</td>\n",
       "      <td>G01</td>\n",
       "      <td>TEXT1: G01; TEXT2: clocked storage device; ANC...</td>\n",
       "      <td>0.677568</td>\n",
       "    </tr>\n",
       "    <tr>\n",
       "      <th>33</th>\n",
       "      <td>b9ea2b06a878df6f</td>\n",
       "      <td>coupling factor</td>\n",
       "      <td>turns impedance</td>\n",
       "      <td>G01</td>\n",
       "      <td>TEXT1: G01; TEXT2: turns impedance; ANC1: coup...</td>\n",
       "      <td>0.462214</td>\n",
       "    </tr>\n",
       "    <tr>\n",
       "      <th>34</th>\n",
       "      <td>79795133c30ef097</td>\n",
       "      <td>different conductivity</td>\n",
       "      <td>carrier polarity</td>\n",
       "      <td>H03</td>\n",
       "      <td>TEXT1: H03; TEXT2: carrier polarity; ANC1: dif...</td>\n",
       "      <td>0.444360</td>\n",
       "    </tr>\n",
       "    <tr>\n",
       "      <th>35</th>\n",
       "      <td>25522ee5411e63e9</td>\n",
       "      <td>hybrid bearing</td>\n",
       "      <td>corrosion resistant</td>\n",
       "      <td>F16</td>\n",
       "      <td>TEXT1: F16; TEXT2: corrosion resistant; ANC1: ...</td>\n",
       "      <td>0.184854</td>\n",
       "    </tr>\n",
       "  </tbody>\n",
       "</table>\n",
       "</div>"
      ],
      "text/plain": [
       "                  id                       anchor  \\\n",
       "0   4112d61851461f60                     opc drum   \n",
       "1   09e418c93a776564              adjust gas flow   \n",
       "2   36baf228038e314b               lower trunnion   \n",
       "3   1f37ead645e7f0c8                cap component   \n",
       "4   71a5b6ad068d531f           neural stimulation   \n",
       "5   474c874d0c07bd21                     dry corn   \n",
       "6   442c114ed5c4e3c9          tunneling capacitor   \n",
       "7   b8ae62ea5e1d8bdb      angular contact bearing   \n",
       "8   faaddaf8fcba8a3f  produce liquid hydrocarbons   \n",
       "9   ae0262c02566d2ce             diesel fuel tank   \n",
       "10  a8808e31641e856d            chemical activity   \n",
       "11  16ae4b99d3601e60         transmit to platform   \n",
       "12  25c555ca3d5a2092                  oil tankers   \n",
       "13  5203a36c501f1b7c            generate in layer   \n",
       "14  b9fdc772bb8fd61c                 slip segment   \n",
       "15  7aa5908a77a7ec24                   el display   \n",
       "16  d19ef3979396d47e              overflow device   \n",
       "17  fd83613b7843f5e1     beam traveling direction   \n",
       "18  2a619016908bfa45                   el display   \n",
       "19  733979d75f59770d               equipment unit   \n",
       "20  6546846df17f9800                   halocarbyl   \n",
       "21  3ff0e7a35015be69         perfluoroalkyl group   \n",
       "22  12ca31f018a2e2b9          speed control means   \n",
       "23  03ba802ed4029e4d                   arm design   \n",
       "24  c404f8b378cbb008               hybrid bearing   \n",
       "25  78243984c02a72e4                     end pins   \n",
       "26  de51114bc0faec3e             organic starting   \n",
       "27  7e3aff857f056bf9                make of slabs   \n",
       "28  26c3c6dc6174b589                   seal teeth   \n",
       "29  b892011ab2e2cabc            carry by platform   \n",
       "30  8247ff562ca185cc                        polls   \n",
       "31  c057aecbba832387              upper clamp arm   \n",
       "32  9f2279ce667b21dc              clocked storage   \n",
       "33  b9ea2b06a878df6f              coupling factor   \n",
       "34  79795133c30ef097       different conductivity   \n",
       "35  25522ee5411e63e9               hybrid bearing   \n",
       "\n",
       "                           target context  \\\n",
       "0   inorganic photoconductor drum     G02   \n",
       "1               altering gas flow     F23   \n",
       "2                  lower locating     B60   \n",
       "3                   upper portion     D06   \n",
       "4       artificial neural network     H04   \n",
       "5                 dry corn starch     C12   \n",
       "6               capacitor housing     G11   \n",
       "7       contact therapy radiation     B23   \n",
       "8        produce a treated stream     C10   \n",
       "9               diesel fuel tanks     F02   \n",
       "10     dielectric characteristics     B01   \n",
       "11               direct receiving     H04   \n",
       "12                   oil carriers     B63   \n",
       "13              generate by layer     G02   \n",
       "14                   slip portion     B22   \n",
       "15                   illumination     G02   \n",
       "16                     oil filler     E04   \n",
       "17                  concrete beam     H05   \n",
       "18             electroluminescent     C23   \n",
       "19                power detection     H02   \n",
       "20      halogen addition reaction     C07   \n",
       "21                        hydroxy     A63   \n",
       "22                   control loop     G05   \n",
       "23                    steel plate     F16   \n",
       "24                 bearing system     F04   \n",
       "25                       end days     A44   \n",
       "26                organic farming     B61   \n",
       "27                    making cake     E04   \n",
       "28                teeth whitening     F01   \n",
       "29              carry on platform     B60   \n",
       "30                 pooling device     B21   \n",
       "31                     end visual     A61   \n",
       "32         clocked storage device     G01   \n",
       "33                turns impedance     G01   \n",
       "34               carrier polarity     H03   \n",
       "35            corrosion resistant     F16   \n",
       "\n",
       "                                                input     preds  \n",
       "0   TEXT1: G02; TEXT2: inorganic photoconductor dr...  0.657263  \n",
       "1   TEXT1: F23; TEXT2: altering gas flow; ANC1: ad...  0.768425  \n",
       "2   TEXT1: B60; TEXT2: lower locating; ANC1: lower...  0.490535  \n",
       "3   TEXT1: D06; TEXT2: upper portion; ANC1: cap co...  0.375327  \n",
       "4   TEXT1: H04; TEXT2: artificial neural network; ...  0.000000  \n",
       "5   TEXT1: C12; TEXT2: dry corn starch; ANC1: dry ...  0.562612  \n",
       "6   TEXT1: G11; TEXT2: capacitor housing; ANC1: tu...  0.482692  \n",
       "7   TEXT1: B23; TEXT2: contact therapy radiation; ...  0.011487  \n",
       "8   TEXT1: C10; TEXT2: produce a treated stream; A...  0.215943  \n",
       "9   TEXT1: F02; TEXT2: diesel fuel tanks; ANC1: di...  1.000000  \n",
       "10  TEXT1: B01; TEXT2: dielectric characteristics;...  0.246587  \n",
       "11  TEXT1: H04; TEXT2: direct receiving; ANC1: tra...  0.273917  \n",
       "12  TEXT1: B63; TEXT2: oil carriers; ANC1: oil tan...  0.789157  \n",
       "13  TEXT1: G02; TEXT2: generate by layer; ANC1: ge...  0.867036  \n",
       "14  TEXT1: B22; TEXT2: slip portion; ANC1: slip se...  0.760139  \n",
       "15  TEXT1: G02; TEXT2: illumination; ANC1: el display  0.456371  \n",
       "16  TEXT1: E04; TEXT2: oil filler; ANC1: overflow ...  0.206004  \n",
       "17  TEXT1: H05; TEXT2: concrete beam; ANC1: beam t...  0.000000  \n",
       "18  TEXT1: C23; TEXT2: electroluminescent; ANC1: e...  0.591072  \n",
       "19  TEXT1: H02; TEXT2: power detection; ANC1: equi...  0.334054  \n",
       "20  TEXT1: C07; TEXT2: halogen addition reaction; ...  0.384680  \n",
       "21  TEXT1: A63; TEXT2: hydroxy; ANC1: perfluoroalk...  0.237037  \n",
       "22  TEXT1: G05; TEXT2: control loop; ANC1: speed c...  0.138800  \n",
       "23   TEXT1: F16; TEXT2: steel plate; ANC1: arm design  0.201745  \n",
       "24  TEXT1: F04; TEXT2: bearing system; ANC1: hybri...  0.606599  \n",
       "25        TEXT1: A44; TEXT2: end days; ANC1: end pins  0.000000  \n",
       "26  TEXT1: B61; TEXT2: organic farming; ANC1: orga...  0.000000  \n",
       "27  TEXT1: E04; TEXT2: making cake; ANC1: make of ...  0.000000  \n",
       "28  TEXT1: F01; TEXT2: teeth whitening; ANC1: seal...  0.000000  \n",
       "29  TEXT1: B60; TEXT2: carry on platform; ANC1: ca...  0.606126  \n",
       "30     TEXT1: B21; TEXT2: pooling device; ANC1: polls  0.344209  \n",
       "31  TEXT1: A61; TEXT2: end visual; ANC1: upper cla...  0.046513  \n",
       "32  TEXT1: G01; TEXT2: clocked storage device; ANC...  0.677568  \n",
       "33  TEXT1: G01; TEXT2: turns impedance; ANC1: coup...  0.462214  \n",
       "34  TEXT1: H03; TEXT2: carrier polarity; ANC1: dif...  0.444360  \n",
       "35  TEXT1: F16; TEXT2: corrosion resistant; ANC1: ...  0.184854  "
      ]
     },
     "execution_count": 49,
     "metadata": {},
     "output_type": "execute_result"
    }
   ],
   "source": [
    "eval_df"
   ]
  },
  {
   "cell_type": "code",
   "execution_count": null,
   "metadata": {},
   "outputs": [],
   "source": []
  },
  {
   "cell_type": "markdown",
   "metadata": {},
   "source": []
  },
  {
   "cell_type": "markdown",
   "metadata": {},
   "source": [
    "download_dataset()"
   ]
  },
  {
   "cell_type": "markdown",
   "metadata": {},
   "source": []
  }
 ],
 "metadata": {
  "kernelspec": {
   "display_name": "dl-core-py39",
   "language": "python",
   "name": "python3"
  },
  "language_info": {
   "codemirror_mode": {
    "name": "ipython",
    "version": 3
   },
   "file_extension": ".py",
   "mimetype": "text/x-python",
   "name": "python",
   "nbconvert_exporter": "python",
   "pygments_lexer": "ipython3",
   "version": "3.9.0"
  }
 },
 "nbformat": 4,
 "nbformat_minor": 2
}
